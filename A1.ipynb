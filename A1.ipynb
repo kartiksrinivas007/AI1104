{
 "cells": [
  {
   "cell_type": "code",
   "execution_count": 1,
   "id": "cd838a5b",
   "metadata": {},
   "outputs": [],
   "source": [
    "import torch\n",
    "import numpy as np\n",
    "from torchvision.datasets import MNIST\n",
    "import torchvision.transforms as tf\n",
    "import torch.nn as nn\n",
    "import matplotlib.pyplot as plt\n",
    "from tqdm import tqdm\n",
    "import imageio\n",
    "from torch.utils.data import DataLoader as DL\n",
    "import os"
   ]
  },
  {
   "cell_type": "code",
   "execution_count": 2,
   "id": "c9150198",
   "metadata": {},
   "outputs": [
    {
     "data": {
      "text/plain": [
       "<torch._C.Generator at 0x7b751816c270>"
      ]
     },
     "execution_count": 2,
     "metadata": {},
     "output_type": "execute_result"
    }
   ],
   "source": [
    "torch.cuda.is_available()\n",
    "torch.manual_seed(1)"
   ]
  },
  {
   "cell_type": "code",
   "execution_count": 3,
   "id": "eb31d537",
   "metadata": {},
   "outputs": [],
   "source": [
    "device = \"cuda\" if torch.cuda.is_available() else \"cpu\""
   ]
  },
  {
   "cell_type": "code",
   "execution_count": 4,
   "id": "4feb6547",
   "metadata": {},
   "outputs": [
    {
     "data": {
      "text/plain": [
       "'cuda'"
      ]
     },
     "execution_count": 4,
     "metadata": {},
     "output_type": "execute_result"
    }
   ],
   "source": [
    "device"
   ]
  },
  {
   "cell_type": "markdown",
   "id": "2e839cb3",
   "metadata": {},
   "source": [
    "MNIST Dataset\n",
    "\n",
    "---\n",
    "\n",
    "Import from `datasets`"
   ]
  },
  {
   "cell_type": "code",
   "execution_count": 5,
   "id": "7c0167b9",
   "metadata": {},
   "outputs": [],
   "source": [
    "transform = tf.Compose([tf.ToTensor(), tf.Normalize((0.1307), (0.3081,))])"
   ]
  },
  {
   "cell_type": "code",
   "execution_count": 6,
   "id": "46ecc6b2",
   "metadata": {},
   "outputs": [
    {
     "name": "stdout",
     "output_type": "stream",
     "text": [
      "Downloading http://yann.lecun.com/exdb/mnist/train-images-idx3-ubyte.gz\n",
      "Failed to download (trying next):\n",
      "HTTP Error 403: Forbidden\n",
      "\n",
      "Downloading https://ossci-datasets.s3.amazonaws.com/mnist/train-images-idx3-ubyte.gz\n",
      "Downloading https://ossci-datasets.s3.amazonaws.com/mnist/train-images-idx3-ubyte.gz to ./data/MNIST/raw/train-images-idx3-ubyte.gz\n"
     ]
    },
    {
     "data": {
      "application/vnd.jupyter.widget-view+json": {
       "model_id": "389fc9e1a9c74244b9ffc610b9c495c1",
       "version_major": 2,
       "version_minor": 0
      },
      "text/plain": [
       "  0%|          | 0/9912422 [00:00<?, ?it/s]"
      ]
     },
     "metadata": {},
     "output_type": "display_data"
    },
    {
     "name": "stdout",
     "output_type": "stream",
     "text": [
      "Extracting ./data/MNIST/raw/train-images-idx3-ubyte.gz to ./data/MNIST/raw\n",
      "\n",
      "Downloading http://yann.lecun.com/exdb/mnist/train-labels-idx1-ubyte.gz\n",
      "Failed to download (trying next):\n",
      "HTTP Error 403: Forbidden\n",
      "\n",
      "Downloading https://ossci-datasets.s3.amazonaws.com/mnist/train-labels-idx1-ubyte.gz\n",
      "Downloading https://ossci-datasets.s3.amazonaws.com/mnist/train-labels-idx1-ubyte.gz to ./data/MNIST/raw/train-labels-idx1-ubyte.gz\n"
     ]
    },
    {
     "data": {
      "application/vnd.jupyter.widget-view+json": {
       "model_id": "de8f51a879724d778de3f22daf4e3123",
       "version_major": 2,
       "version_minor": 0
      },
      "text/plain": [
       "  0%|          | 0/28881 [00:00<?, ?it/s]"
      ]
     },
     "metadata": {},
     "output_type": "display_data"
    },
    {
     "name": "stdout",
     "output_type": "stream",
     "text": [
      "Extracting ./data/MNIST/raw/train-labels-idx1-ubyte.gz to ./data/MNIST/raw\n",
      "\n",
      "Downloading http://yann.lecun.com/exdb/mnist/t10k-images-idx3-ubyte.gz\n",
      "Failed to download (trying next):\n",
      "HTTP Error 403: Forbidden\n",
      "\n",
      "Downloading https://ossci-datasets.s3.amazonaws.com/mnist/t10k-images-idx3-ubyte.gz\n",
      "Downloading https://ossci-datasets.s3.amazonaws.com/mnist/t10k-images-idx3-ubyte.gz to ./data/MNIST/raw/t10k-images-idx3-ubyte.gz\n"
     ]
    },
    {
     "data": {
      "application/vnd.jupyter.widget-view+json": {
       "model_id": "ccaadb998e794e8eb53a2657f89f4f6d",
       "version_major": 2,
       "version_minor": 0
      },
      "text/plain": [
       "  0%|          | 0/1648877 [00:00<?, ?it/s]"
      ]
     },
     "metadata": {},
     "output_type": "display_data"
    },
    {
     "name": "stdout",
     "output_type": "stream",
     "text": [
      "Extracting ./data/MNIST/raw/t10k-images-idx3-ubyte.gz to ./data/MNIST/raw\n",
      "\n",
      "Downloading http://yann.lecun.com/exdb/mnist/t10k-labels-idx1-ubyte.gz\n",
      "Failed to download (trying next):\n",
      "HTTP Error 403: Forbidden\n",
      "\n",
      "Downloading https://ossci-datasets.s3.amazonaws.com/mnist/t10k-labels-idx1-ubyte.gz\n",
      "Downloading https://ossci-datasets.s3.amazonaws.com/mnist/t10k-labels-idx1-ubyte.gz to ./data/MNIST/raw/t10k-labels-idx1-ubyte.gz\n"
     ]
    },
    {
     "data": {
      "application/vnd.jupyter.widget-view+json": {
       "model_id": "b879589ff95f455d8a2e1eb045b9c23e",
       "version_major": 2,
       "version_minor": 0
      },
      "text/plain": [
       "  0%|          | 0/4542 [00:00<?, ?it/s]"
      ]
     },
     "metadata": {},
     "output_type": "display_data"
    },
    {
     "name": "stdout",
     "output_type": "stream",
     "text": [
      "Extracting ./data/MNIST/raw/t10k-labels-idx1-ubyte.gz to ./data/MNIST/raw\n",
      "\n"
     ]
    }
   ],
   "source": [
    "train_ds = DL(MNIST(root=\"./data\", train=True, download = True, transform= transform) ,batch_size=35)"
   ]
  },
  {
   "cell_type": "code",
   "execution_count": 7,
   "id": "447acb5e",
   "metadata": {},
   "outputs": [],
   "source": [
    "test_ds = DL(MNIST(root=\"./data\", train=False, download = True, transform= transform) ,batch_size = 35)"
   ]
  },
  {
   "cell_type": "code",
   "execution_count": 8,
   "id": "a75603e4",
   "metadata": {},
   "outputs": [],
   "source": [
    "ind = iter(train_ds)"
   ]
  },
  {
   "cell_type": "code",
   "execution_count": 9,
   "id": "86359e9c",
   "metadata": {},
   "outputs": [],
   "source": [
    "train_batches = len(ind)"
   ]
  },
  {
   "cell_type": "code",
   "execution_count": 10,
   "id": "2bec2152",
   "metadata": {},
   "outputs": [],
   "source": [
    "class encoder(torch.nn.Module):\n",
    "    def __init__(self, input_size, bottleneck):\n",
    "        super().__init__()\n",
    "        self.bn = bottleneck\n",
    "        self.input_size = input_size\n",
    "        self.fc1 = nn.Linear(input_size,bottleneck*2)\n",
    "        self.fc2 = nn.Linear(bottleneck*2, bottleneck)\n",
    "    \n",
    "    def forward(self,x):\n",
    "        m = torch.flatten(x, 1)\n",
    "        return(self.fc2(self.fc1(m)))      "
   ]
  },
  {
   "cell_type": "code",
   "execution_count": 11,
   "id": "8126fb5e",
   "metadata": {},
   "outputs": [],
   "source": [
    "class decoder(torch.nn.Module):\n",
    "    def __init__(self,bottleneck,output_size):\n",
    "        super().__init__()\n",
    "        self.bn = bottleneck\n",
    "        self.fc1 = nn.Linear(bottleneck, bottleneck*2)\n",
    "        self.fc2 = nn.Linear(bottleneck*2, output_size)\n",
    "    def forward(self, x):\n",
    "        return (self.fc2(self.fc1(x)))"
   ]
  },
  {
   "cell_type": "code",
   "execution_count": 12,
   "id": "2e356251",
   "metadata": {},
   "outputs": [
    {
     "data": {
      "text/plain": [
       "decoder(\n",
       "  (fc1): Linear(in_features=20, out_features=40, bias=True)\n",
       "  (fc2): Linear(in_features=40, out_features=784, bias=True)\n",
       ")"
      ]
     },
     "execution_count": 12,
     "metadata": {},
     "output_type": "execute_result"
    }
   ],
   "source": [
    "ec = encoder(784,20)\n",
    "dc =  decoder(20, 784)\n",
    "dc"
   ]
  },
  {
   "cell_type": "code",
   "execution_count": 13,
   "id": "abbd9630",
   "metadata": {},
   "outputs": [],
   "source": [
    "class Autoencoder(torch.nn.Module):\n",
    "    def __init__(self, input_size, bottleneck):\n",
    "        super().__init__()\n",
    "        self.bn = bottleneck\n",
    "        self.input_size = input_size\n",
    "        self.encoder = encoder(self.input_size, self.bn)\n",
    "        self.decoder = decoder(self.bn, self.input_size)\n",
    "    def forward(self,x):\n",
    "        return self.decoder(self.encoder(x))\n",
    "    "
   ]
  },
  {
   "cell_type": "code",
   "execution_count": 14,
   "id": "fc18cde3",
   "metadata": {},
   "outputs": [],
   "source": [
    "loss_fn = torch.nn.MSELoss()"
   ]
  },
  {
   "cell_type": "code",
   "execution_count": 15,
   "id": "52d3d4e2",
   "metadata": {},
   "outputs": [],
   "source": [
    "y = next(ind)"
   ]
  },
  {
   "cell_type": "code",
   "execution_count": 16,
   "id": "91ab04b1",
   "metadata": {},
   "outputs": [
    {
     "data": {
      "text/plain": [
       "torch.Size([35, 1, 28, 28])"
      ]
     },
     "execution_count": 16,
     "metadata": {},
     "output_type": "execute_result"
    }
   ],
   "source": [
    "y[0].shape"
   ]
  },
  {
   "cell_type": "code",
   "execution_count": 17,
   "id": "dd86649b",
   "metadata": {},
   "outputs": [
    {
     "data": {
      "text/plain": [
       "tensor([5, 0, 4, 1, 9, 2, 1, 3, 1, 4, 3, 5, 3, 6, 1, 7, 2, 8, 6, 9, 4, 0, 9, 1,\n",
       "        1, 2, 4, 3, 2, 7, 3, 8, 6, 9, 0])"
      ]
     },
     "execution_count": 17,
     "metadata": {},
     "output_type": "execute_result"
    }
   ],
   "source": [
    "y[1]"
   ]
  },
  {
   "cell_type": "code",
   "execution_count": 18,
   "id": "07af8037",
   "metadata": {},
   "outputs": [
    {
     "name": "stdout",
     "output_type": "stream",
     "text": [
      "torch.Size([35, 20])\n"
     ]
    }
   ],
   "source": [
    "img = torch.randn(35, 1, 28, 28)\n",
    "op = ec(img)\n",
    "print(op.shape)"
   ]
  },
  {
   "cell_type": "code",
   "execution_count": 19,
   "id": "548d44c7",
   "metadata": {},
   "outputs": [],
   "source": [
    "ae = Autoencoder(784,32)"
   ]
  },
  {
   "cell_type": "code",
   "execution_count": 20,
   "id": "184889ad",
   "metadata": {},
   "outputs": [],
   "source": [
    "train_losses = []\n",
    "test_losses = []\n",
    "opt =  torch.optim.Adam(ae.parameters(), lr  = 0.001)"
   ]
  },
  {
   "cell_type": "code",
   "execution_count": 21,
   "id": "5a21a5f7",
   "metadata": {},
   "outputs": [
    {
     "data": {
      "text/plain": [
       "Autoencoder(\n",
       "  (encoder): encoder(\n",
       "    (fc1): Linear(in_features=784, out_features=64, bias=True)\n",
       "    (fc2): Linear(in_features=64, out_features=32, bias=True)\n",
       "  )\n",
       "  (decoder): decoder(\n",
       "    (fc1): Linear(in_features=32, out_features=64, bias=True)\n",
       "    (fc2): Linear(in_features=64, out_features=784, bias=True)\n",
       "  )\n",
       ")"
      ]
     },
     "execution_count": 21,
     "metadata": {},
     "output_type": "execute_result"
    }
   ],
   "source": [
    "ae.to(device)"
   ]
  },
  {
   "cell_type": "code",
   "execution_count": 22,
   "id": "2e3de03d",
   "metadata": {},
   "outputs": [
    {
     "data": {
      "text/plain": [
       "422912"
      ]
     },
     "execution_count": 22,
     "metadata": {},
     "output_type": "execute_result"
    }
   ],
   "source": [
    "torch.cuda.memory_allocated()"
   ]
  },
  {
   "cell_type": "code",
   "execution_count": 22,
   "id": "1b3f531e",
   "metadata": {},
   "outputs": [],
   "source": [
    "def calc_loss(dl,model):\n",
    "    model.eval()\n",
    "    loss = 0\n",
    "    count = 0\n",
    "    for index,(image, target) in enumerate(dl):\n",
    "        image = image.to(device)\n",
    "        flat_img = torch.flatten(image, 1)\n",
    "        loss = loss + loss_fn(model(image), flat_img).item()\n",
    "        count = count + 1\n",
    "    return loss/count"
   ]
  },
  {
   "cell_type": "code",
   "execution_count": 23,
   "id": "6cb274d9",
   "metadata": {},
   "outputs": [
    {
     "name": "stdout",
     "output_type": "stream",
     "text": [
      "1.019876085877766\n"
     ]
    }
   ],
   "source": [
    "calc_loss(test_ds, ae)\n",
    "print(calc_loss(train_ds, ae))"
   ]
  },
  {
   "cell_type": "code",
   "execution_count": 24,
   "id": "bd9b7e59",
   "metadata": {},
   "outputs": [
    {
     "data": {
      "text/plain": [
       "60000"
      ]
     },
     "execution_count": 24,
     "metadata": {},
     "output_type": "execute_result"
    }
   ],
   "source": [
    "len(train_ds.dataset)"
   ]
  },
  {
   "cell_type": "code",
   "execution_count": 25,
   "id": "3dfc8b4a",
   "metadata": {},
   "outputs": [
    {
     "name": "stderr",
     "output_type": "stream",
     "text": [
      "100%|██████████| 1715/1715 [00:17<00:00, 98.72it/s] \n",
      "100%|██████████| 1715/1715 [00:18<00:00, 94.93it/s] \n",
      "100%|██████████| 1715/1715 [00:20<00:00, 83.34it/s] \n",
      "100%|██████████| 3/3 [00:56<00:00, 18.68s/it]\n"
     ]
    }
   ],
   "source": [
    "for epoch in tqdm(range(3)):\n",
    "    for index,(image, target) in (enumerate(tqdm(train_ds, leave=True))):\n",
    "        ae.train()\n",
    "        opt.zero_grad()\n",
    "        ae = ae.to(device)\n",
    "        image = image.to(device)\n",
    "        flat_img = torch.flatten(image, 1)\n",
    "        op = ae(image)\n",
    "        loss = loss_fn(op, flat_img)\n",
    "        loss.backward()\n",
    "        opt.step()\n",
    "        if(index %600 == 0):\n",
    "            train_losses.append(loss.item())\n",
    "            test_loss = calc_loss(test_ds, ae)\n",
    "            test_losses.append(test_loss)\n"
   ]
  },
  {
   "cell_type": "code",
   "execution_count": 26,
   "id": "acc2d6cd",
   "metadata": {},
   "outputs": [
    {
     "data": {
      "text/plain": [
       "<matplotlib.legend.Legend at 0x7b746cd10e80>"
      ]
     },
     "execution_count": 26,
     "metadata": {},
     "output_type": "execute_result"
    },
    {
     "data": {
      "image/png": "[encoded data removed]",
      "text/plain": [
       "<Figure size 432x288 with 1 Axes>"
      ]
     },
     "metadata": {
      "needs_background": "light"
     },
     "output_type": "display_data"
    }
   ],
   "source": [
    "plt.plot(train_losses, label='train_losses')\n",
    "plt.plot(test_losses, label= 'test_losses')\n",
    "plt.xlabel('Index per 300 iterations')\n",
    "plt.legend()"
   ]
  },
  {
   "cell_type": "code",
   "execution_count": 27,
   "id": "4220860f",
   "metadata": {},
   "outputs": [
    {
     "data": {
      "text/plain": [
       "Autoencoder(\n",
       "  (encoder): encoder(\n",
       "    (fc1): Linear(in_features=784, out_features=64, bias=True)\n",
       "    (fc2): Linear(in_features=64, out_features=32, bias=True)\n",
       "  )\n",
       "  (decoder): decoder(\n",
       "    (fc1): Linear(in_features=32, out_features=64, bias=True)\n",
       "    (fc2): Linear(in_features=64, out_features=784, bias=True)\n",
       "  )\n",
       ")"
      ]
     },
     "execution_count": 27,
     "metadata": {},
     "output_type": "execute_result"
    }
   ],
   "source": [
    "test_losses[-1]\n",
    "ae = ae.to(\"cpu\")\n",
    "ae.eval()"
   ]
  },
  {
   "cell_type": "code",
   "execution_count": 28,
   "id": "f590a01a",
   "metadata": {},
   "outputs": [],
   "source": [
    "batch  = next(ind)\n",
    "img = batch[0]"
   ]
  },
  {
   "cell_type": "code",
   "execution_count": 29,
   "id": "16a315f2",
   "metadata": {},
   "outputs": [
    {
     "data": {
      "text/plain": [
       "<matplotlib.image.AxesImage at 0x7b74614c7f10>"
      ]
     },
     "execution_count": 29,
     "metadata": {},
     "output_type": "execute_result"
    },
    {
     "data": {
      "image/png": "[encoded data removed]",
      "text/plain": [
       "<Figure size 432x288 with 1 Axes>"
      ]
     },
     "metadata": {
      "needs_background": "light"
     },
     "output_type": "display_data"
    }
   ],
   "source": [
    "plt.imshow(img[0].permute(1, 2, 0))"
   ]
  },
  {
   "cell_type": "code",
   "execution_count": 30,
   "id": "108ee1d7",
   "metadata": {},
   "outputs": [
    {
     "data": {
      "image/png": "[encoded data removed]",
      "text/plain": [
       "<Figure size 432x288 with 1 Axes>"
      ]
     },
     "metadata": {
      "needs_background": "light"
     },
     "output_type": "display_data"
    }
   ],
   "source": [
    "plt.imshow(ae(img[0]).reshape(-1,28,28).permute(1,2,0).detach().numpy())\n",
    "latent = ae.encoder(img[0])"
   ]
  },
  {
   "cell_type": "markdown",
   "id": "d482fb63",
   "metadata": {},
   "source": [
    "#### Using the model to visualize the Manifold structure in the latent space"
   ]
  },
  {
   "cell_type": "code",
   "execution_count": 31,
   "id": "df713865",
   "metadata": {},
   "outputs": [
    {
     "data": {
      "image/png": "[encoded data removed]",
      "text/plain": [
       "<Figure size 432x288 with 1 Axes>"
      ]
     },
     "metadata": {
      "needs_background": "light"
     },
     "output_type": "display_data"
    }
   ],
   "source": [
    "batch_next = next(ind)\n",
    "image_next = batch_next[0]\n",
    "plt.imshow(image_next[0].permute(1, 2, 0))\n",
    "latent_next = ae.encoder(image_next[0])"
   ]
  },
  {
   "cell_type": "code",
   "execution_count": 32,
   "id": "09c453ff",
   "metadata": {},
   "outputs": [],
   "source": [
    "# obtain the latent representations of both of the images\n",
    "detacher = lambda x: torch.reshape(x, (-1, 28, 28)).detach().numpy()\n",
    "imager = lambda x: torch.reshape(x, (-1, 28, 28)).permute(1, 2, 0).detach().numpy()\n",
    "det_trans = tf.Lambda(detacher) \n",
    "image_trans = tf.Lambda(imager)"
   ]
  },
  {
   "cell_type": "code",
   "execution_count": 36,
   "id": "431d4a03",
   "metadata": {},
   "outputs": [
    {
     "name": "stdout",
     "output_type": "stream",
     "text": [
      "mkdir: cannot create directory ‘images’: File exists\n"
     ]
    }
   ],
   "source": [
    "!mkdir images"
   ]
  },
  {
   "cell_type": "code",
   "execution_count": 37,
   "id": "4c510a14",
   "metadata": {},
   "outputs": [
    {
     "data": {
      "image/png": "[encoded data removed]",
      "text/plain": [
       "<Figure size 432x288 with 1 Axes>"
      ]
     },
     "metadata": {
      "needs_background": "light"
     },
     "output_type": "display_data"
    }
   ],
   "source": [
    "filenames = []\n",
    "count = 0\n",
    "for alpha in np.linspace(0,1, 60):\n",
    "    count = count + 1\n",
    "    latent_mid = alpha*latent + (1 - alpha)*latent_next\n",
    "    plt.imshow(image_trans(ae.decoder(latent_mid)))\n",
    "    plt.savefig('images/alpha_' + str(count) + '.png')\n",
    "    filenames.append('images/alpha_' + str(count) + '.png')"
   ]
  },
  {
   "cell_type": "code",
   "execution_count": 38,
   "id": "4279b638",
   "metadata": {},
   "outputs": [],
   "source": [
    "images = []\n",
    "for file in filenames:\n",
    "    images.append(imageio.v2.imread(file))\n",
    "    \n",
    "imageio.mimsave('ae.gif', images)"
   ]
  },
  {
   "cell_type": "markdown",
   "id": "f862e474",
   "metadata": {},
   "source": [
    "![](ae.gif)"
   ]
  },
  {
   "cell_type": "code",
   "execution_count": 39,
   "id": "44c3c5b0",
   "metadata": {},
   "outputs": [],
   "source": [
    "for file in filenames:\n",
    "    os.remove(file)"
   ]
  }
 ],
 "metadata": {
  "kernelspec": {
   "display_name": "Python 3 (ipykernel)",
   "language": "python",
   "name": "python3"
  },
  "language_info": {
   "codemirror_mode": {
    "name": "ipython",
    "version": 3
   },
   "file_extension": ".py",
   "mimetype": "text/x-python",
   "name": "python",
   "nbconvert_exporter": "python",
   "pygments_lexer": "ipython3",
   "version": "3.9.13"
  }
 },
 "nbformat": 4,
 "nbformat_minor": 5
}
